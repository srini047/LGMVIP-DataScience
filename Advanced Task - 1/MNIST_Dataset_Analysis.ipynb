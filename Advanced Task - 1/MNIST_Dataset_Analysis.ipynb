{
  "nbformat": 4,
  "nbformat_minor": 2,
  "metadata": {
    "colab": {
      "name": "MNIST Dataset Analysis.ipynb",
      "provenance": [],
      "collapsed_sections": []
    },
    "kernelspec": {
      "name": "python3",
      "display_name": "Python 3.8.5 64-bit ('base': conda)"
    },
    "language_info": {
      "name": "python",
      "version": "3.8.5",
      "mimetype": "text/x-python",
      "codemirror_mode": {
        "name": "ipython",
        "version": 3
      },
      "pygments_lexer": "ipython3",
      "nbconvert_exporter": "python",
      "file_extension": ".py"
    },
    "interpreter": {
      "hash": "130553f4f0d3e23349af9165d910d4262409c6846676bdcb430be96ef900c543"
    }
  },
  "cells": [
    {
      "cell_type": "markdown",
      "source": [
        "# Introduction\r\n",
        "\r\n",
        "## Advance Task 1 - Develop A Neural Network That Can Read Handwriting\r\n",
        "\r\n",
        "**Name:** *Sriniketh J*\r\n",
        "\r\n",
        "**Task:** *Begin your neural network machine learning project with the MNIST Handwritten Digit Classification Challenge and using Tensorflow and CNN. It has a very user-friendly interface that’s ideal for beginners. Dataset can be seen on MNIST or can find <a href= \"https://en.wikipedia.org/wiki/MNIST_database\">here</a>.*"
      ],
      "metadata": {
        "id": "X6B8queNzVGs"
      }
    },
    {
      "cell_type": "markdown",
      "source": [
        "## MNIST Data\r\n",
        "**MNIST is ‘Modified National Institute of Standards and Technology’. This database consists of handwritten digits from 0 to 9 and it provides a pavement for testing image processing systems. This is considered to be the ‘Hello World program in ML’ which involves Deep Learning.**"
      ],
      "metadata": {
        "id": "smLtEITgzcXl"
      }
    },
    {
      "cell_type": "markdown",
      "source": [
        "# 1. Importing Dataset"
      ],
      "metadata": {
        "id": "-vYzi-pUzl75"
      }
    },
    {
      "cell_type": "code",
      "execution_count": 1,
      "source": [
        "import matplotlib.pyplot as plt\r\n",
        "from keras.datasets import mnist\r\n",
        "\r\n",
        "data = mnist.load_data()"
      ],
      "outputs": [],
      "metadata": {
        "id": "4Lex5_FLpZ1L"
      }
    },
    {
      "cell_type": "code",
      "execution_count": 2,
      "source": [
        "data"
      ],
      "outputs": [
        {
          "output_type": "execute_result",
          "data": {
            "text/plain": [
              "((array([[[0, 0, 0, ..., 0, 0, 0],\n",
              "          [0, 0, 0, ..., 0, 0, 0],\n",
              "          [0, 0, 0, ..., 0, 0, 0],\n",
              "          ...,\n",
              "          [0, 0, 0, ..., 0, 0, 0],\n",
              "          [0, 0, 0, ..., 0, 0, 0],\n",
              "          [0, 0, 0, ..., 0, 0, 0]],\n",
              "  \n",
              "         [[0, 0, 0, ..., 0, 0, 0],\n",
              "          [0, 0, 0, ..., 0, 0, 0],\n",
              "          [0, 0, 0, ..., 0, 0, 0],\n",
              "          ...,\n",
              "          [0, 0, 0, ..., 0, 0, 0],\n",
              "          [0, 0, 0, ..., 0, 0, 0],\n",
              "          [0, 0, 0, ..., 0, 0, 0]],\n",
              "  \n",
              "         [[0, 0, 0, ..., 0, 0, 0],\n",
              "          [0, 0, 0, ..., 0, 0, 0],\n",
              "          [0, 0, 0, ..., 0, 0, 0],\n",
              "          ...,\n",
              "          [0, 0, 0, ..., 0, 0, 0],\n",
              "          [0, 0, 0, ..., 0, 0, 0],\n",
              "          [0, 0, 0, ..., 0, 0, 0]],\n",
              "  \n",
              "         ...,\n",
              "  \n",
              "         [[0, 0, 0, ..., 0, 0, 0],\n",
              "          [0, 0, 0, ..., 0, 0, 0],\n",
              "          [0, 0, 0, ..., 0, 0, 0],\n",
              "          ...,\n",
              "          [0, 0, 0, ..., 0, 0, 0],\n",
              "          [0, 0, 0, ..., 0, 0, 0],\n",
              "          [0, 0, 0, ..., 0, 0, 0]],\n",
              "  \n",
              "         [[0, 0, 0, ..., 0, 0, 0],\n",
              "          [0, 0, 0, ..., 0, 0, 0],\n",
              "          [0, 0, 0, ..., 0, 0, 0],\n",
              "          ...,\n",
              "          [0, 0, 0, ..., 0, 0, 0],\n",
              "          [0, 0, 0, ..., 0, 0, 0],\n",
              "          [0, 0, 0, ..., 0, 0, 0]],\n",
              "  \n",
              "         [[0, 0, 0, ..., 0, 0, 0],\n",
              "          [0, 0, 0, ..., 0, 0, 0],\n",
              "          [0, 0, 0, ..., 0, 0, 0],\n",
              "          ...,\n",
              "          [0, 0, 0, ..., 0, 0, 0],\n",
              "          [0, 0, 0, ..., 0, 0, 0],\n",
              "          [0, 0, 0, ..., 0, 0, 0]]], dtype=uint8),\n",
              "  array([5, 0, 4, ..., 5, 6, 8], dtype=uint8)),\n",
              " (array([[[0, 0, 0, ..., 0, 0, 0],\n",
              "          [0, 0, 0, ..., 0, 0, 0],\n",
              "          [0, 0, 0, ..., 0, 0, 0],\n",
              "          ...,\n",
              "          [0, 0, 0, ..., 0, 0, 0],\n",
              "          [0, 0, 0, ..., 0, 0, 0],\n",
              "          [0, 0, 0, ..., 0, 0, 0]],\n",
              "  \n",
              "         [[0, 0, 0, ..., 0, 0, 0],\n",
              "          [0, 0, 0, ..., 0, 0, 0],\n",
              "          [0, 0, 0, ..., 0, 0, 0],\n",
              "          ...,\n",
              "          [0, 0, 0, ..., 0, 0, 0],\n",
              "          [0, 0, 0, ..., 0, 0, 0],\n",
              "          [0, 0, 0, ..., 0, 0, 0]],\n",
              "  \n",
              "         [[0, 0, 0, ..., 0, 0, 0],\n",
              "          [0, 0, 0, ..., 0, 0, 0],\n",
              "          [0, 0, 0, ..., 0, 0, 0],\n",
              "          ...,\n",
              "          [0, 0, 0, ..., 0, 0, 0],\n",
              "          [0, 0, 0, ..., 0, 0, 0],\n",
              "          [0, 0, 0, ..., 0, 0, 0]],\n",
              "  \n",
              "         ...,\n",
              "  \n",
              "         [[0, 0, 0, ..., 0, 0, 0],\n",
              "          [0, 0, 0, ..., 0, 0, 0],\n",
              "          [0, 0, 0, ..., 0, 0, 0],\n",
              "          ...,\n",
              "          [0, 0, 0, ..., 0, 0, 0],\n",
              "          [0, 0, 0, ..., 0, 0, 0],\n",
              "          [0, 0, 0, ..., 0, 0, 0]],\n",
              "  \n",
              "         [[0, 0, 0, ..., 0, 0, 0],\n",
              "          [0, 0, 0, ..., 0, 0, 0],\n",
              "          [0, 0, 0, ..., 0, 0, 0],\n",
              "          ...,\n",
              "          [0, 0, 0, ..., 0, 0, 0],\n",
              "          [0, 0, 0, ..., 0, 0, 0],\n",
              "          [0, 0, 0, ..., 0, 0, 0]],\n",
              "  \n",
              "         [[0, 0, 0, ..., 0, 0, 0],\n",
              "          [0, 0, 0, ..., 0, 0, 0],\n",
              "          [0, 0, 0, ..., 0, 0, 0],\n",
              "          ...,\n",
              "          [0, 0, 0, ..., 0, 0, 0],\n",
              "          [0, 0, 0, ..., 0, 0, 0],\n",
              "          [0, 0, 0, ..., 0, 0, 0]]], dtype=uint8),\n",
              "  array([7, 2, 1, ..., 4, 5, 6], dtype=uint8)))"
            ]
          },
          "metadata": {},
          "execution_count": 2
        }
      ],
      "metadata": {
        "colab": {
          "base_uri": "https://localhost:8080/"
        },
        "id": "3PtrRTxQqSbh",
        "outputId": "daf3b406-be5c-4034-eaf4-b27a244ee162"
      }
    },
    {
      "cell_type": "markdown",
      "source": [
        "# 2. Split the Dataset into Test and Train"
      ],
      "metadata": {
        "id": "tBCYhVzqzy5P"
      }
    },
    {
      "cell_type": "code",
      "execution_count": 3,
      "source": [
        "(X_train, y_train), (X_test, y_test) = data"
      ],
      "outputs": [],
      "metadata": {
        "id": "r5_lBQuwp7Wf"
      }
    },
    {
      "cell_type": "markdown",
      "source": [
        "## Data Visualisation\r\n",
        "\r\n",
        "### Colored Image"
      ],
      "metadata": {}
    },
    {
      "cell_type": "code",
      "execution_count": 4,
      "source": [
        "plt.imshow(X_train[7])"
      ],
      "outputs": [
        {
          "output_type": "execute_result",
          "data": {
            "text/plain": [
              "<matplotlib.image.AxesImage at 0x14d2446a340>"
            ]
          },
          "metadata": {},
          "execution_count": 4
        },
        {
          "output_type": "display_data",
          "data": {
            "image/png": "[encoded data removed]",
            "text/plain": [
              "<Figure size 432x288 with 1 Axes>"
            ]
          },
          "metadata": {
            "needs_background": "light"
          }
        }
      ],
      "metadata": {}
    },
    {
      "cell_type": "markdown",
      "source": [
        "### Gray Scale Image"
      ],
      "metadata": {}
    },
    {
      "cell_type": "code",
      "execution_count": 5,
      "source": [
        "plt.imshow(X_train[7], cmap = 'gray')\r\n",
        "plt.show()"
      ],
      "outputs": [
        {
          "output_type": "display_data",
          "data": {
            "image/png": "[encoded data removed]",
            "text/plain": [
              "<Figure size 432x288 with 1 Axes>"
            ]
          },
          "metadata": {
            "needs_background": "light"
          }
        }
      ],
      "metadata": {}
    },
    {
      "cell_type": "code",
      "execution_count": 6,
      "source": [
        "X_train[0].shape"
      ],
      "outputs": [
        {
          "output_type": "execute_result",
          "data": {
            "text/plain": [
              "(28, 28)"
            ]
          },
          "metadata": {},
          "execution_count": 6
        }
      ],
      "metadata": {
        "colab": {
          "base_uri": "https://localhost:8080/"
        },
        "id": "xKzCobHGqmK8",
        "outputId": "5489767e-4a39-4f78-f596-f970e2a3cb8d"
      }
    },
    {
      "cell_type": "code",
      "execution_count": 7,
      "source": [
        "X_train.shape"
      ],
      "outputs": [
        {
          "output_type": "execute_result",
          "data": {
            "text/plain": [
              "(60000, 28, 28)"
            ]
          },
          "metadata": {},
          "execution_count": 7
        }
      ],
      "metadata": {
        "colab": {
          "base_uri": "https://localhost:8080/"
        },
        "id": "k82_jVuFsRlL",
        "outputId": "77beb703-9960-48c7-96b4-d4123518a460"
      }
    },
    {
      "cell_type": "code",
      "execution_count": 8,
      "source": [
        "X_train = X_train.reshape((X_train.shape[0], 28*28)).astype('float32')\r\n",
        "X_test = X_test.reshape((X_test.shape[0], 28*28)).astype('float32')"
      ],
      "outputs": [],
      "metadata": {
        "id": "SnqJbvzlrP2R"
      }
    },
    {
      "cell_type": "code",
      "execution_count": 9,
      "source": [
        "X_train = X_train / 255\r\n",
        "X_test = X_test / 255"
      ],
      "outputs": [],
      "metadata": {
        "id": "gyXFf2zurqFb"
      }
    },
    {
      "cell_type": "markdown",
      "source": [
        "# 3. Model Building"
      ],
      "metadata": {
        "id": "scz1_vUWz_pb"
      }
    },
    {
      "cell_type": "code",
      "execution_count": 10,
      "source": [
        "from keras.utils import np_utils\r\n",
        "\r\n",
        "print(y_test.shape)\r\n",
        "\r\n",
        "y_train = np_utils.to_categorical(y_train)\r\n",
        "y_test = np_utils.to_categorical(y_test)\r\n",
        "\r\n",
        "num_classes = y_test.shape[1]\r\n",
        "\r\n",
        "print(y_test.shape)"
      ],
      "outputs": [
        {
          "output_type": "stream",
          "name": "stdout",
          "text": [
            "(10000,)\n",
            "(10000, 10)\n"
          ]
        }
      ],
      "metadata": {
        "colab": {
          "base_uri": "https://localhost:8080/"
        },
        "id": "qp5_vm5Sr2cp",
        "outputId": "feeef8f1-eb51-4175-81d6-7aec6325a1e6"
      }
    },
    {
      "cell_type": "code",
      "execution_count": 11,
      "source": [
        "from keras.models import Sequential\r\n",
        "from keras.layers import Dense"
      ],
      "outputs": [],
      "metadata": {
        "id": "F-fUU4OoszeW"
      }
    },
    {
      "cell_type": "markdown",
      "source": [
        "## Building a Sequential and Dense Model with Relu and Softmax as activation functions."
      ],
      "metadata": {}
    },
    {
      "cell_type": "code",
      "execution_count": 12,
      "source": [
        "model = Sequential()\r\n",
        "\r\n",
        "model.add(Dense(32, input_dim = 28 * 28, activation= 'relu'))\r\n",
        "\r\n",
        "model.add(Dense(64, activation = 'relu'))\r\n",
        "\r\n",
        "model.add(Dense(10, activation  = 'softmax'))"
      ],
      "outputs": [],
      "metadata": {
        "id": "q6th6CP0ti8X"
      }
    },
    {
      "cell_type": "code",
      "execution_count": 13,
      "source": [
        "model.compile(loss= 'categorical_crossentropy', optimizer= 'adam', metrics= ['accuracy'])"
      ],
      "outputs": [],
      "metadata": {
        "id": "hulSizWzvJB3"
      }
    },
    {
      "cell_type": "code",
      "execution_count": 14,
      "source": [
        "model.summary()"
      ],
      "outputs": [
        {
          "output_type": "stream",
          "name": "stdout",
          "text": [
            "Model: \"sequential\"\n",
            "_________________________________________________________________\n",
            "Layer (type)                 Output Shape              Param #   \n",
            "=================================================================\n",
            "dense (Dense)                (None, 32)                25120     \n",
            "_________________________________________________________________\n",
            "dense_1 (Dense)              (None, 64)                2112      \n",
            "_________________________________________________________________\n",
            "dense_2 (Dense)              (None, 10)                650       \n",
            "=================================================================\n",
            "Total params: 27,882\n",
            "Trainable params: 27,882\n",
            "Non-trainable params: 0\n",
            "_________________________________________________________________\n"
          ]
        }
      ],
      "metadata": {
        "colab": {
          "base_uri": "https://localhost:8080/"
        },
        "id": "JZ5p6XCVvW_0",
        "outputId": "c0997c23-4294-4e65-f1c7-b5e1901018e1"
      }
    },
    {
      "cell_type": "markdown",
      "source": [
        "# 4. Train the model"
      ],
      "metadata": {
        "id": "pPMXokxP0G_c"
      }
    },
    {
      "cell_type": "code",
      "execution_count": 15,
      "source": [
        "model.fit(X_train, y_train, epochs= 10, batch_size = 100)"
      ],
      "outputs": [
        {
          "output_type": "stream",
          "name": "stdout",
          "text": [
            "Epoch 1/10\n",
            "600/600 [==============================] - 2s 2ms/step - loss: 0.7987 - accuracy: 0.7646\n",
            "Epoch 2/10\n",
            "600/600 [==============================] - 1s 2ms/step - loss: 0.2101 - accuracy: 0.9390\n",
            "Epoch 3/10\n",
            "600/600 [==============================] - 1s 2ms/step - loss: 0.1514 - accuracy: 0.9555\n",
            "Epoch 4/10\n",
            "600/600 [==============================] - 1s 2ms/step - loss: 0.1270 - accuracy: 0.9626\n",
            "Epoch 5/10\n",
            "600/600 [==============================] - 2s 3ms/step - loss: 0.1073 - accuracy: 0.9686\n",
            "Epoch 6/10\n",
            "600/600 [==============================] - 2s 3ms/step - loss: 0.0912 - accuracy: 0.9726\n",
            "Epoch 7/10\n",
            "600/600 [==============================] - 1s 2ms/step - loss: 0.0804 - accuracy: 0.9762\n",
            "Epoch 8/10\n",
            "600/600 [==============================] - 1s 2ms/step - loss: 0.0720 - accuracy: 0.9785\n",
            "Epoch 9/10\n",
            "600/600 [==============================] - 2s 3ms/step - loss: 0.0639 - accuracy: 0.9800\n",
            "Epoch 10/10\n",
            "600/600 [==============================] - 2s 3ms/step - loss: 0.0612 - accuracy: 0.9813\n"
          ]
        },
        {
          "output_type": "execute_result",
          "data": {
            "text/plain": [
              "<tensorflow.python.keras.callbacks.History at 0x14d2da22be0>"
            ]
          },
          "metadata": {},
          "execution_count": 15
        }
      ],
      "metadata": {
        "colab": {
          "base_uri": "https://localhost:8080/"
        },
        "id": "ApCMy5DHvaXL",
        "outputId": "0ee39f2d-6a97-4af0-82a0-45aa66c5c09c"
      }
    },
    {
      "cell_type": "markdown",
      "source": [
        "# 5. Predicting Accuracy"
      ],
      "metadata": {
        "id": "fZpCtAlK0Md_"
      }
    },
    {
      "cell_type": "code",
      "execution_count": 16,
      "source": [
        "scores = model.evaluate(X_test, y_test)\r\n",
        "print('Accuracy: ',scores[1] * 100)"
      ],
      "outputs": [
        {
          "output_type": "stream",
          "name": "stdout",
          "text": [
            "313/313 [==============================] - 1s 2ms/step - loss: 0.1019 - accuracy: 0.9693\n",
            "Accuracy:  96.92999720573425\n"
          ]
        }
      ],
      "metadata": {
        "colab": {
          "base_uri": "https://localhost:8080/"
        },
        "id": "BjQQWGPAvp8X",
        "outputId": "2aaa67ed-9dc6-4fbb-a1e8-9e0ff2002ed3"
      }
    }
  ]
}